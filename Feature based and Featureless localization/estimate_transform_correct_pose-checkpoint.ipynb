{
 "cells": [
  {
   "cell_type": "code",
   "execution_count": 1,
   "metadata": {
    "collapsed": true
   },
   "outputs": [],
   "source": [
    "from lego_robot import *\n",
    "from slam_b_library import filter_step\n",
    "from project_landmarks import\\\n",
    "     compute_scanner_cylinders, write_cylinders\n",
    "from math import sqrt, atan2\n",
    "import sys\n"
   ]
  },
  {
   "cell_type": "markdown",
   "metadata": {},
   "source": [
    " ##### Cylinder Pairs\n",
    "    Given a list of cylinders (points) and reference_cylinders:\n",
    "    For every cylinder, find the closest reference_cylinder and add the index pair (i, j), where i is the index of the cylinder, and j is the index of the reference_cylinder, to the result list. "
   ]
  },
  {
   "cell_type": "code",
   "execution_count": 2,
   "metadata": {
    "collapsed": true
   },
   "outputs": [],
   "source": [
    "def find_cylinder_pairs(cylinders, reference_cylinders, max_radius):\n",
    "    cylinder_pairs = []\n",
    "    index_j = 0\n",
    "    for i in xrange(len(cylinders)): # Loop over every world cylinder\n",
    "        min_dist = float(\"inf\") # Setting a very large value initially\n",
    "        for j in xrange(len(reference_cylinders)): # Loop over every reference cylinder\n",
    "            dist = sqrt((cylinders[i][0] - reference_cylinders[j][0])**2 + (cylinders[i][1] - reference_cylinders[j][1])**2) \n",
    "            # Take the world cylinder and calculate the distance between it and every reference cylinder.\n",
    "            # Assign the world cylinder to the reference cylinder for which the distance is the shortest provided the distance doesn't exceed the maximum allowable radius.\n",
    "            if(dist<min_dist):\n",
    "                min_dist = dist\n",
    "                index_j = j\n",
    "        if(min_dist<max_radius):\n",
    "            cylinder_pairs.append((i, index_j))\n",
    "        # Loop this over for every world cylinder found.\n",
    "\n",
    "    return cylinder_pairs"
   ]
  },
  {
   "cell_type": "markdown",
   "metadata": {},
   "source": [
    "##### Center of Mass\n",
    "    Given a point list, return the center of mass."
   ]
  },
  {
   "cell_type": "code",
   "execution_count": 3,
   "metadata": {
    "collapsed": true
   },
   "outputs": [],
   "source": [
    "def compute_center(point_list):\n",
    "    # Safeguard against empty list.\n",
    "    if not point_list:\n",
    "        return (0.0, 0.0)\n",
    "    # If not empty, sum up and divide.\n",
    "    sx = sum([p[0] for p in point_list])\n",
    "    sy = sum([p[1] for p in point_list])\n",
    "    return (float(sx) / len(point_list), float(sy) / len(point_list))\n"
   ]
  },
  {
   "cell_type": "markdown",
   "metadata": {},
   "source": [
    "##### Similarity Transformation\n",
    "    Given a left_list of points and a right_list of points, compute the parameters of a similarity transform: scale, rotation, translation.\n",
    "    If fix_scale is True, use the fixed scale of 1.0. (For rigid body transformation)\n",
    "    The returned value is a tuple of:\n",
    "        (scale, cos(angle), sin(angle), x_translation, y_translation)\n",
    "        i.e., the rotation angle is not given in radians, but rather in terms of the cosine and sine.\n"
   ]
  },
  {
   "cell_type": "code",
   "execution_count": 4,
   "metadata": {
    "collapsed": true
   },
   "outputs": [],
   "source": [
    "def estimate_transform(left_list, right_list, fix_scale = False):\n",
    "    # Compute left and right center of mass.\n",
    "    lc = compute_center(left_list)\n",
    "    rc = compute_center(right_list)\n",
    "    cs, ss, rr, ll = 0, 0, 0, 0 \n",
    "\n",
    "    for i in xrange(0, len(left_list)):\n",
    "        # Reduced left coordinates\n",
    "        lx_dash = left_list[i][0] - lc[0]\n",
    "        ly_dash = left_list[i][1] - lc[1]\n",
    "\n",
    "        # Reduced right coordinates\n",
    "        rx_dash = right_list[i][0] - rc[0]\n",
    "        ry_dash = right_list[i][1] - rc[1]\n",
    "        \n",
    "        # Cosine sum and Sine sum        \n",
    "        cs += rx_dash*lx_dash + ry_dash * ly_dash\n",
    "        ss += - rx_dash*ly_dash + ry_dash *lx_dash\n",
    "        \n",
    "        # Square length of the vectors\n",
    "        rr += rx_dash * rx_dash + ry_dash *ry_dash\n",
    "        ll += lx_dash * lx_dash + ly_dash * ly_dash\n",
    "        \n",
    "        if(not rr and not ll):\n",
    "            return None\n",
    "        \n",
    "        # la = lambda (scaling)\n",
    "        # c = cosine\n",
    "        # s = sine\n",
    "        # tx = translation along x\n",
    "        # ty = translation along y\n",
    "        la = 1 if (fix_scale) else sqrt (rr/ll)\n",
    "            \n",
    "        leng = sqrt(cs**2 + ss**2)\n",
    "        c = cs/leng\n",
    "        s = ss/leng \n",
    "        \n",
    "        tx = rc[0] - la*c*lc[0] + la*s*lc[1]\n",
    "        ty = rc[1] - la*s*lc[0] - la*c*lc[1]\n",
    "        \n",
    "        return la, c, s, tx, ty\n"
   ]
  },
  {
   "cell_type": "markdown",
   "metadata": {},
   "source": [
    "##### Application of Transform\n",
    "    Given a similarity transformation:\n",
    "        trafo = (scale, cos(angle), sin(angle), x_translation, y_translation)\n",
    "        and a point p = (x, y), return the transformed point."
   ]
  },
  {
   "cell_type": "code",
   "execution_count": 5,
   "metadata": {
    "collapsed": true
   },
   "outputs": [],
   "source": [
    "def apply_transform(trafo, p):\n",
    "    la, c, s, tx, ty = trafo\n",
    "    lac = la * c\n",
    "    las = la * s\n",
    "    x = lac * p[0] - las * p[1] + tx\n",
    "    y = las * p[0] + lac * p[1] + ty\n",
    "    return (x, y)"
   ]
  },
  {
   "cell_type": "markdown",
   "metadata": {},
   "source": [
    "##### Pose correction of the robot based on the transform\n",
    "    Correct the pose = (x, y, heading) of the robot using the given similarity transform. \n",
    "    Note this changes the position as well as the heading."
   ]
  },
  {
   "cell_type": "code",
   "execution_count": 6,
   "metadata": {
    "collapsed": true
   },
   "outputs": [],
   "source": [
    "def correct_pose(pose, trafo):\n",
    "    \n",
    "    x, y = apply_transform(trafo, pose[:2])\n",
    "    \n",
    "    theta = pose[2] + atan2(trafo[2], trafo[1])\n",
    "    \n",
    "    return (x, y, theta) "
   ]
  },
  {
   "cell_type": "code",
   "execution_count": 7,
   "metadata": {
    "collapsed": true
   },
   "outputs": [],
   "source": [
    "if __name__ == '__main__':\n",
    "    # The constants we used for the filter_step.\n",
    "    scanner_displacement = 30.0\n",
    "    ticks_to_mm = 0.349\n",
    "    robot_width = 150.0\n",
    "\n",
    "    # The constants we used for the cylinder detection in our scan.\n",
    "    minimum_valid_distance = 20.0\n",
    "    depth_jump = 100.0\n",
    "    cylinder_offset = 90.0\n",
    "\n",
    "    # The maximum distance allowed for cylinder assignment.\n",
    "    max_cylinder_distance = 400.0\n",
    "\n",
    "    # The start pose we obtained miraculously.\n",
    "    pose = (1850.0, 1897.0, 3.717551306747922)\n",
    "\n",
    "    # Read the logfile which contains all scans.\n",
    "    logfile = LegoLogfile()\n",
    "    logfile.read(\"robot4_motors.txt\")\n",
    "    logfile.read(\"robot4_scan.txt\")\n",
    "\n",
    "    # Also read the reference cylinders (this is our map).\n",
    "    logfile.read(\"robot_arena_landmarks.txt\")\n",
    "    reference_cylinders = [l[1:3] for l in logfile.landmarks]\n",
    "\n",
    "    out_file = file(\"apply_transform.txt\", \"w\")\n",
    "    for i in xrange(len(logfile.scan_data)):\n",
    "        # Compute the new pose.\n",
    "        pose = filter_step(pose, logfile.motor_ticks[i],\n",
    "                           ticks_to_mm, robot_width,\n",
    "                           scanner_displacement)\n",
    "\n",
    "        # Extract cylinders, also convert them to world coordinates.\n",
    "        cartesian_cylinders = compute_scanner_cylinders(\n",
    "            logfile.scan_data[i],\n",
    "            depth_jump, minimum_valid_distance, cylinder_offset)\n",
    "        world_cylinders = [LegoLogfile.scanner_to_world(pose, c)\n",
    "                           for c in cartesian_cylinders]\n",
    "\n",
    "        # For every cylinder, find the closest reference cylinder.\n",
    "        cylinder_pairs = find_cylinder_pairs(\n",
    "            world_cylinders, reference_cylinders, max_cylinder_distance)\n",
    "\n",
    "        # Estimate a transformation using the cylinder pairs.\n",
    "        trafo = estimate_transform(\n",
    "            [world_cylinders[pair[0]] for pair in cylinder_pairs],\n",
    "            [reference_cylinders[pair[1]] for pair in cylinder_pairs],\n",
    "            fix_scale = True)\n",
    "\n",
    "        # Transform the cylinders using the estimated transform.\n",
    "        transformed_world_cylinders = []\n",
    "        if trafo:\n",
    "            transformed_world_cylinders =\\\n",
    "                [apply_transform(trafo, c) for c in\n",
    "                 [world_cylinders[pair[0]] for pair in cylinder_pairs]]\n",
    "\n",
    "        # Also apply the trafo to correct the position and heading.\n",
    "        if trafo:\n",
    "            pose = correct_pose(pose, trafo)\n",
    "\n",
    "        # Write to file.\n",
    "        # The pose.\n",
    "        out_file.write(\"F %f %f %f\\n\" % pose)\n",
    "        # The detected cylinders in the scanner's coordinate system.\n",
    "        write_cylinders(out_file, \"D C\", cartesian_cylinders)\n",
    "        # The detected cylinders, transformed using the estimated trafo.\n",
    "        write_cylinders(out_file, \"W C\", transformed_world_cylinders)\n",
    "\n",
    "    out_file.close()"
   ]
  }
 ],
 "metadata": {
  "kernelspec": {
   "display_name": "Python 2",
   "language": "python",
   "name": "python2"
  },
  "language_info": {
   "codemirror_mode": {
    "name": "ipython",
    "version": 2
   },
   "file_extension": ".py",
   "mimetype": "text/x-python",
   "name": "python",
   "nbconvert_exporter": "python",
   "pygments_lexer": "ipython2",
   "version": "2.7.14"
  }
 },
 "nbformat": 4,
 "nbformat_minor": 2
}
