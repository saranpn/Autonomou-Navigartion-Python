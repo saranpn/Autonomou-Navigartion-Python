{
 "cells": [
  {
   "cell_type": "code",
   "execution_count": 1,
   "metadata": {
    "collapsed": true
   },
   "outputs": [],
   "source": [
    "from pylab import plot, show, ylim\n",
    "from distribution import *"
   ]
  },
  {
   "cell_type": "markdown",
   "metadata": {},
   "source": [
    "##### Move\n",
    "    Returns a Distribution that has been moved (x-axis) by the amount of delta."
   ]
  },
  {
   "cell_type": "code",
   "execution_count": 2,
   "metadata": {},
   "outputs": [],
   "source": [
    "def move(distribution, delta):\n",
    "\n",
    "    return Distribution(distribution.offset + delta, distribution.values)"
   ]
  },
  {
   "cell_type": "code",
   "execution_count": 3,
   "metadata": {},
   "outputs": [
    {
     "data": {
      "image/png": "[encoded data removed]",
      "text/plain": [
       "<matplotlib.figure.Figure at 0x925aa20>"
      ]
     },
     "metadata": {},
     "output_type": "display_data"
    }
   ],
   "source": [
    "if __name__ == '__main__':\n",
    "    # List of movements: move 3 times by 20.\n",
    "    moves = [20, 20, 20]\n",
    "\n",
    "    # Start with a known position: probability 1.0 at position 10.\n",
    "    position = Distribution.triangle(10,2)\n",
    "    plot(position.plotlists(0,100)[0], position.plotlists(0,100)[1],\n",
    "         linestyle='steps')\n",
    "\n",
    "    # Now move and plot.\n",
    "    for m in moves:\n",
    "        position = move(position, m)\n",
    "        plot(position.plotlists(0,100)[0], position.plotlists(0,100)[1],\n",
    "             linestyle='steps')\n",
    "    ylim(0.0, 1.1)\n",
    "    show()"
   ]
  }
 ],
 "metadata": {
  "kernelspec": {
   "display_name": "Python 2",
   "language": "python",
   "name": "python2"
  },
  "language_info": {
   "codemirror_mode": {
    "name": "ipython",
    "version": 2
   },
   "file_extension": ".py",
   "mimetype": "text/x-python",
   "name": "python",
   "nbconvert_exporter": "python",
   "pygments_lexer": "ipython2",
   "version": "2.7.14"
  }
 },
 "nbformat": 4,
 "nbformat_minor": 2
}
