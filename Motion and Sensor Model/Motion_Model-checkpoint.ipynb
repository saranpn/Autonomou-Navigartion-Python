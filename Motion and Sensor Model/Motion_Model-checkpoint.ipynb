{
 "cells": [
  {
   "cell_type": "code",
   "execution_count": 1,
   "metadata": {
    "collapsed": true
   },
   "outputs": [],
   "source": [
    "from math import sin, cos, pi\n",
    "from lego_robot import *\n",
    "import matplotlib.pyplot as plt"
   ]
  },
  {
   "cell_type": "markdown",
   "metadata": {},
   "source": [
    "##### Computation of new pose and heading.\n",
    "\n",
    "    The following function takes the old (x, y, heading) pose and the motor ticks (ticks_left, ticks_right) and returns the new (x, y, heading)."
   ]
  },
  {
   "cell_type": "code",
   "execution_count": 2,
   "metadata": {
    "collapsed": true
   },
   "outputs": [],
   "source": [
    "from math import sin, cos, pi\n",
    "from lego_robot import *\n",
    "\n",
    "def filter_step(old_pose, motor_ticks, ticks_to_mm, robot_width,\n",
    "                scanner_displacement):\n",
    "\n",
    "    # Find out if there is a turn at all.\n",
    "    if motor_ticks[0] == motor_ticks[1]:\n",
    "        # No turn. Just drive straight.\n",
    "\n",
    "        x, y, theta = old_pose\n",
    "        x = x + motor_ticks[0]*cos(theta)*ticks_to_mm\n",
    "        y = y + motor_ticks[0]*sin(theta)*ticks_to_mm\n",
    "        return (x, y, theta)\n",
    "\n",
    "    else:\n",
    "        x, y, theta = old_pose\n",
    "\n",
    "        x = x - scanner_displacement*cos(theta)\n",
    "        y = y - scanner_displacement*sin(theta)\n",
    "        l, r = motor_ticks\n",
    "        l = l * ticks_to_mm\n",
    "        r = r * ticks_to_mm\n",
    "        # Turn. Compute alpha, R, etc.\n",
    "        alpha = (r-l)/robot_width\n",
    "        R = l/alpha\n",
    "        Rw2 = (R + robot_width/2)\n",
    "        cx, cy = (x - Rw2*sin(theta),\n",
    "                  y - Rw2*(-cos(theta)))\n",
    "        theta = (theta + alpha) % (2*pi)\n",
    "\n",
    "        x = cx + Rw2*sin(theta)\n",
    "        y = cy + Rw2*(-cos(theta))\n",
    "\n",
    "\n",
    "        x = x + scanner_displacement*cos(theta)\n",
    "        y = y + scanner_displacement*sin(theta)\n",
    "        return (x, y, theta)\n"
   ]
  },
  {
   "cell_type": "code",
   "execution_count": 3,
   "metadata": {
    "collapsed": true
   },
   "outputs": [],
   "source": [
    "if __name__ == '__main__':\n",
    "    # Empirically derived distance between scanner and assumed\n",
    "    # center of robot.\n",
    "    scanner_displacement = 30.0\n",
    "\n",
    "    # Empirically derived conversion from ticks to mm.\n",
    "    ticks_to_mm = 0.349\n",
    "\n",
    "    # Measured width of the robot (wheel gauge), in mm.\n",
    "    robot_width = 173.0\n",
    "\n",
    "    # Measured start position.\n",
    "    pose = (1850.0, 1897.0, 213.0 / 180.0 * pi)\n",
    "\n",
    "    # Read data.\n",
    "    logfile = LegoLogfile()\n",
    "    logfile.read(\"robot4_motors.txt\")\n",
    "\n",
    "    # Loop over all motor tick records generate filtered position list.\n",
    "    filtered = []\n",
    "    for ticks in logfile.motor_ticks:\n",
    "        pose = filter_step(pose, ticks, ticks_to_mm, robot_width,\n",
    "                           scanner_displacement)\n",
    "        filtered.append(pose)\n",
    "\n",
    "    # Write all filtered positions to file.\n",
    "    f = open(\"poses_from_ticks.txt\", \"w\")\n",
    "    for pose in filtered:\n",
    "        f.write(\"F %f %f %f\\n\" % pose)\n",
    "    f.close()"
   ]
  },
  {
   "cell_type": "markdown",
   "metadata": {},
   "source": [
    "##### Plot of the robot's path"
   ]
  },
  {
   "cell_type": "code",
   "execution_count": 4,
   "metadata": {
    "scrolled": true
   },
   "outputs": [
    {
     "data": {
      "image/png": "[encoded data removed]",
      "text/plain": [
       "<matplotlib.figure.Figure at 0xa4297b8>"
      ]
     },
     "metadata": {},
     "output_type": "display_data"
    }
   ],
   "source": [
    "for pose in filtered:\n",
    "    plt.plot([p[0] for p in filtered], [p[1] for p in filtered], 'r.')\n",
    "plt.show()"
   ]
  }
 ],
 "metadata": {
  "kernelspec": {
   "display_name": "Python 2",
   "language": "python",
   "name": "python2"
  },
  "language_info": {
   "codemirror_mode": {
    "name": "ipython",
    "version": 2
   },
   "file_extension": ".py",
   "mimetype": "text/x-python",
   "name": "python",
   "nbconvert_exporter": "python",
   "pygments_lexer": "ipython2",
   "version": "2.7.14"
  }
 },
 "nbformat": 4,
 "nbformat_minor": 2
}
